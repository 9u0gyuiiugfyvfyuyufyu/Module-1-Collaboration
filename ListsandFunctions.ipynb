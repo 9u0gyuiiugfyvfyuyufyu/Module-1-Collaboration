{
 "cells": [
  {
   "cell_type": "code",
   "execution_count": 1,
   "id": "859d7fe1-ea00-4f1e-bc6c-1df88f02fa21",
   "metadata": {},
   "outputs": [
    {
     "name": "stdout",
     "output_type": "stream",
     "text": [
      "After capitalizing 'cinderella': ['mozzarella', 'Cinderella', 'salmonella']\n",
      "After making 'mozzarella' uppercase: ['MOZZARELLA', 'Cinderella', 'salmonella']\n",
      "After removing 'salmonella': ['MOZZARELLA', 'Cinderella']\n"
     ]
    }
   ],
   "source": [
    "\n",
    "things = [\"mozzarella\", \"cinderella\", \"salmonella\"]\n",
    "\n",
    "\n",
    "things[1] = things[1].capitalize()\n",
    "print(\"After capitalizing 'cinderella':\", things)\n",
    "\n",
    "\n",
    "things[0] = things[0].upper()\n",
    "print(\"After making 'mozzarella' uppercase:\", things)\n",
    "\n",
    "\n",
    "things.remove(\"salmonella\")\n",
    "print(\"After removing 'salmonella':\", things)"
   ]
  },
  {
   "cell_type": "code",
   "execution_count": 3,
   "id": "d13914dd-e4a7-45a3-ada6-43eb294657a4",
   "metadata": {},
   "outputs": [
    {
     "name": "stdout",
     "output_type": "stream",
     "text": [
      "['Harry', 'Ron', 'Hermione']\n",
      "The third odd number is: 5\n"
     ]
    }
   ],
   "source": [
    "\n",
    "def good():\n",
    "    return ['Harry', 'Ron', 'Hermione']\n",
    "\n",
    "\n",
    "print(good())\n",
    "\n",
    "\n",
    "def get_odds():\n",
    "    for number in range(10):\n",
    "        if number % 2 != 0:  \n",
    "            yield number\n",
    "\n",
    "\n",
    "odds = get_odds()\n",
    "for i, value in enumerate(odds, start=1):\n",
    "    if i == 3:\n",
    "        print(\"The third odd number is:\", value)\n",
    "        break"
   ]
  },
  {
   "cell_type": "code",
   "execution_count": null,
   "id": "0f62225c-21b6-4ce1-8314-0055b8563523",
   "metadata": {},
   "outputs": [],
   "source": []
  }
 ],
 "metadata": {
  "kernelspec": {
   "display_name": "Python 3 (ipykernel)",
   "language": "python",
   "name": "python3"
  },
  "language_info": {
   "codemirror_mode": {
    "name": "ipython",
    "version": 3
   },
   "file_extension": ".py",
   "mimetype": "text/x-python",
   "name": "python",
   "nbconvert_exporter": "python",
   "pygments_lexer": "ipython3",
   "version": "3.12.4"
  }
 },
 "nbformat": 4,
 "nbformat_minor": 5
}
