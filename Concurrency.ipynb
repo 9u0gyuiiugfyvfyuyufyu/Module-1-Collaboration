{
 "cells": [
  {
   "cell_type": "code",
   "execution_count": 1,
   "id": "b7a7b16f-f8a2-4557-8b1b-7dc74078be74",
   "metadata": {},
   "outputs": [
    {
     "name": "stdout",
     "output_type": "stream",
     "text": [
      "Current Date Written: 2024-09-28\n",
      "String Read from File: 2024-09-28\n",
      "Parsed Date: 2024-09-28 00:00:00\n"
     ]
    }
   ],
   "source": [
    "from datetime import datetime\n",
    "\n",
    "\n",
    "current_date = datetime.now().strftime(\"%Y-%m-%d\")  # Format as YYYY-MM-DD\n",
    "with open('today.txt', 'w') as file:\n",
    "    file.write(current_date)\n",
    "\n",
    "\n",
    "with open('today.txt', 'r') as file:\n",
    "    today_string = file.read()\n",
    "parsed_date = datetime.strptime(today_string, \"%Y-%m-%d\")\n",
    "\n",
    "\n",
    "print(f\"Current Date Written: {current_date}\")\n",
    "print(f\"String Read from File: {today_string}\")\n",
    "print(f\"Parsed Date: {parsed_date}\")"
   ]
  },
  {
   "cell_type": "code",
   "execution_count": null,
   "id": "21de57d0-aebb-4fb8-bdd9-902bcb1ceb7f",
   "metadata": {},
   "outputs": [],
   "source": [
    "import multiprocessing\n",
    "import time\n",
    "import random\n",
    "from datetime import datetime\n",
    "\n",
    "def print_time_and_wait():\n",
    "    \n",
    "    wait_time = random.uniform(0, 1)\n",
    "    time.sleep(wait_time)\n",
    "    \n",
    "    \n",
    "    current_time = datetime.now().strftime(\"%Y-%m-%d %H:%M:%S\")\n",
    "    print(f\"Current Time: {current_time} after waiting for {wait_time:.2f} seconds\")\n",
    "\n",
    "if __name__ == \"__main__\":\n",
    "    processes = []\n",
    "\n",
    "    \n",
    "    for _ in range(3):\n",
    "        process = multiprocessing.Process(target=print_time_and_wait)\n",
    "        processes.append(process)\n",
    "        process.start()\n",
    "\n",
    "    \n",
    "    for process in processes:\n",
    "        process.join()\n",
    "\n",
    "    print(\"All processes have completed.\")"
   ]
  }
 ],
 "metadata": {
  "kernelspec": {
   "display_name": "Python 3 (ipykernel)",
   "language": "python",
   "name": "python3"
  },
  "language_info": {
   "codemirror_mode": {
    "name": "ipython",
    "version": 3
   },
   "file_extension": ".py",
   "mimetype": "text/x-python",
   "name": "python",
   "nbconvert_exporter": "python",
   "pygments_lexer": "ipython3",
   "version": "3.12.4"
  }
 },
 "nbformat": 4,
 "nbformat_minor": 5
}
