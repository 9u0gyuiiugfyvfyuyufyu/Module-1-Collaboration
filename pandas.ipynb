{
 "cells": [
  {
   "cell_type": "code",
   "execution_count": 1,
   "id": "45ff21b3-bc35-44ea-b993-a3e08b072208",
   "metadata": {},
   "outputs": [
    {
     "name": "stdout",
     "output_type": "stream",
     "text": [
      "Requirement already satisfied: pandas in c:\\users\\alexf\\anaconda3\\lib\\site-packages (2.2.2)\n",
      "Requirement already satisfied: numpy>=1.26.0 in c:\\users\\alexf\\anaconda3\\lib\\site-packages (from pandas) (1.26.4)\n",
      "Requirement already satisfied: python-dateutil>=2.8.2 in c:\\users\\alexf\\anaconda3\\lib\\site-packages (from pandas) (2.9.0.post0)\n",
      "Requirement already satisfied: pytz>=2020.1 in c:\\users\\alexf\\anaconda3\\lib\\site-packages (from pandas) (2024.1)\n",
      "Requirement already satisfied: tzdata>=2022.7 in c:\\users\\alexf\\anaconda3\\lib\\site-packages (from pandas) (2023.3)\n",
      "Requirement already satisfied: six>=1.5 in c:\\users\\alexf\\anaconda3\\lib\\site-packages (from python-dateutil>=2.8.2->pandas) (1.16.0)\n",
      "Note: you may need to restart the kernel to use updated packages.\n"
     ]
    }
   ],
   "source": [
    "pip install pandas"
   ]
  },
  {
   "cell_type": "code",
   "execution_count": 13,
   "id": "eb329956-ce24-4cfc-b4b4-ff2c728a54dc",
   "metadata": {},
   "outputs": [
    {
     "ename": "SyntaxError",
     "evalue": "invalid syntax. Perhaps you forgot a comma? (2944899160.py, line 19)",
     "output_type": "error",
     "traceback": [
      "\u001b[1;36m  Cell \u001b[1;32mIn[13], line 19\u001b[1;36m\u001b[0m\n\u001b[1;33m    Merging (similar to SQL joins):\u001b[0m\n\u001b[1;37m             ^\u001b[0m\n\u001b[1;31mSyntaxError\u001b[0m\u001b[1;31m:\u001b[0m invalid syntax. Perhaps you forgot a comma?\n"
     ]
    }
   ],
   "source": [
    "import pandas as pd\n",
    "df = pd.read_csv('data.csv')\n",
    "print(df.head())\n",
    "print(df.tail())\n",
    "print(df.describe())\n",
    "print(df.dtypes) \n",
    "print(df['column_name'])  \n",
    "print(df[['col1', 'col2']])  \n",
    "filtered_df = df[df['column_name'] > 50]  \n",
    "df['new_column'] = df['col1'] + df['col2']  \n",
    "print(df.isnull().sum())  \n",
    "df['column_name'].fillna(value=0, inplace=True)  \n",
    "df.dropna(inplace=True)  \n",
    "grouped = df.groupby('column_name').mean()  \n",
    "pivot_table = pd.pivot_table(df, values='col1', index='col2', columns='col3', aggfunc='sum')\n",
    "sorted_df = df.sort_values(by='column_name', ascending=False)  \n",
    "pd.concat([df1, df2], axis=0)  \n",
    "pd.concat([df1, df2], axis=1)  \n",
    "merged_df = pd.merge(df1, df2, on='key_column')  \n",
    "df.to_csv('output.csv', index=False)  \n",
    "df.to_excel('output.xlsx', index=False)  \n",
    "import matplotlib.pyplot as plt\n",
    "\n",
    "df['column_name'].plot(kind='bar')  # Bar plot\n",
    "plt.show()"
   ]
  },
  {
   "cell_type": "code",
   "execution_count": null,
   "id": "a50f71d8-35dd-4c64-9e95-a667cb34a0d9",
   "metadata": {},
   "outputs": [],
   "source": []
  }
 ],
 "metadata": {
  "kernelspec": {
   "display_name": "Python 3 (ipykernel)",
   "language": "python",
   "name": "python3"
  },
  "language_info": {
   "codemirror_mode": {
    "name": "ipython",
    "version": 3
   },
   "file_extension": ".py",
   "mimetype": "text/x-python",
   "name": "python",
   "nbconvert_exporter": "python",
   "pygments_lexer": "ipython3",
   "version": "3.12.4"
  }
 },
 "nbformat": 4,
 "nbformat_minor": 5
}
